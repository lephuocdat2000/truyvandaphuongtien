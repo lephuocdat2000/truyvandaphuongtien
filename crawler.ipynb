{
  "nbformat": 4,
  "nbformat_minor": 0,
  "metadata": {
    "colab": {
      "name": "Untitled34.ipynb",
      "provenance": [],
      "authorship_tag": "ABX9TyMhHeTL6hyHoPFl/D7rse/K",
      "include_colab_link": true
    },
    "kernelspec": {
      "name": "python3",
      "display_name": "Python 3"
    }
  },
  "cells": [
    {
      "cell_type": "markdown",
      "metadata": {
        "id": "view-in-github",
        "colab_type": "text"
      },
      "source": [
        "<a href=\"https://colab.research.google.com/github/lephuocdat2000/truyvandaphuongtien/blob/master/crawler.ipynb\" target=\"_parent\"><img src=\"https://colab.research.google.com/assets/colab-badge.svg\" alt=\"Open In Colab\"/></a>"
      ]
    },
    {
      "cell_type": "code",
      "metadata": {
        "id": "KXArYCErl2sF",
        "colab_type": "code",
        "colab": {}
      },
      "source": [
        "import bs4\n",
        "import pandas as pd\n",
        "import requests\n",
        "import re\n",
        "import string\n",
        "from datetime import date"
      ],
      "execution_count": 41,
      "outputs": []
    },
    {
      "cell_type": "code",
      "metadata": {
        "id": "SJsQDlc8l5sr",
        "colab_type": "code",
        "colab": {}
      },
      "source": [
        "#truy vấn nội dung HTML của một link\n",
        "def get_page_content(url):\n",
        "    page=requests.get(url)\n",
        "    return bs4.BeautifulSoup(page.text,\"html.parser\")\n",
        "#tách xâu ngày ra khỏi thẻ tag HTML\n",
        "def get_date(date_tag):\n",
        "    date=\"\"\n",
        "    str_date_tag=str(date_tag)\n",
        "    date=str_date_tag[str_date_tag.find(\">\")+1:str_date_tag.find(\"<\",1)]\n",
        "    return date\n",
        "#hàm so sánh xem ngày viết của bài báo có giới hạn trong vòng một tháng so với ngày hiện tại hay không\n",
        "def date_comparing(today,date_article):\n",
        "    day_article=date_article[date_article.find(\",\")+2:date_article.find(\"/\")]\n",
        "    month_article=str()\n",
        "    year_article=str()\n",
        "    for i in date_article[date_article.find(\"/\")+1:date_article.find(\"/\")+3]:\n",
        "        if (i!=\"/\"): month_article+=i\n",
        "    for i in date_article[date_article.find(\"/\")+3:date_article.find(\"/\")+8]:\n",
        "        if (i!=\"/\" and i!=','): year_article+=i\n",
        "    day_article=int(day_article)\n",
        "    month_article=int(month_article)\n",
        "    year_article=int(year_article)\n",
        "    if (today.year-1==year_article) and (today.month==1) and (month_article==12) and (day_article>=today.day): return True\n",
        "    if (today.year==year_article):\n",
        "      if (today.month==month_article) and (today.day>=day_article): return True\n",
        "      elif (today.month-1==month_article) and (today.day<=day_article): return True\n",
        "    return False"
      ],
      "execution_count": 42,
      "outputs": []
    },
    {
      "cell_type": "code",
      "metadata": {
        "id": "aZAoA89sl9nx",
        "colab_type": "code",
        "colab": {
          "base_uri": "https://localhost:8080/",
          "height": 806
        },
        "outputId": "0a24ad98-1ae7-4dbc-b243-2f36b7a1fa26"
      },
      "source": [
        "urls=['https://vnexpress.net/thoi-su','https://vnexpress.net/the-gioi','https://vnexpress.net/kinh-doanh','https://vnexpress.net/giai-tri','https://vnexpress.net/the-thao','https://vnexpress.net/phap-luat','https://vnexpress.net/giao-duc','https://vnexpress.net/suc-khoe','https://vnexpress.net/doi-song','https://vnexpress.net/du-lich','https://vnexpress.net/khoa-hoc','https://vnexpress.net/so-hoa','https://vnexpress.net/oto-xe-may','https://vnexpress.net/y-kien','https://vnexpress.net/tam-su','https://vnexpress.net/hai']\n",
        "title_dates=[]\n",
        "s=1\n",
        "today=date.today()\n",
        "for url in urls:\n",
        "  #truy cập vào một chủ đề báo\n",
        "  soup = get_page_content(url)\n",
        "  print(url)\n",
        "  satisfy=True\n",
        "  while(satisfy==True):\n",
        "    newspapers=soup.findAll('h3',class_='title-news')\n",
        "    if (len(newspapers)==0): newspapers=soup.findAll('h2',class_='title-news')\n",
        "    if (len(newspapers)==0): newspaper=soup.findAll('h2',class_='title_item')\n",
        "    #titles=[newspaper.find('a').text for newspaper in newspapers] \n",
        "    links=[newspaper.find('a')['href'] for newspaper in newspapers]\n",
        "    for link in links:\n",
        "      string=[]\n",
        "      #lay noi dung HTML tung bai bao \n",
        "      soup_link = get_page_content(link) \n",
        "      #lay title bai bao\n",
        "      title=soup_link.find('h1',class_='title-detail')\n",
        "      if (title!=None):\n",
        "          title=title.text\n",
        "          #lay the tag chua date\n",
        "          date_tag=soup_link.find('span',class_=\"date\") \n",
        "          if (date_tag==None): date_tag=soup_link.find('span',class_=\"time\") \n",
        "          #tach ngay gio ra khoi tag \n",
        "          date=get_date(date_tag)  \n",
        "          #nếu đạt điều kiện của hàm so sánh thì thực thi\n",
        "          if (date_comparing(today,date)==True): \n",
        "            #tạo chuỗi thứ tự, title,ngày,giờ\n",
        "             string=str(s)+\", \"+str(title)+\" \"+str(date)\n",
        "             print(string)\n",
        "             s+=1\n",
        "          else: \n",
        "             satisfy=False\n",
        "             break\n",
        "    if satisfy!=False:\n",
        "        nextpage_url=soup.find('a',class_=\"btn-page next-page \")\n",
        "        print(nextpage_url)\n",
        "        if (nextpage_url!=None): \n",
        "            nextpage_url=nextpage_url['href']\n",
        "            if (url!='https://vnexpress.net/doi-song' and url!='https://vnexpress.net/du-lich' and url!='https://vnexpress.net/so-hoa/p2'):soup=get_page_content(\"https://vnexpress.net\"+nextpage_url)\n",
        "            else:  soup=get_page_content(nextpage_url)\n",
        "        else: satisfy=False"
      ],
      "execution_count": null,
      "outputs": [
        {
          "output_type": "stream",
          "text": [
            "https://vnexpress.net/thoi-su\n",
            "1, TP HCM khánh thành hầm chui hơn 500 tỷ đồng Thứ bảy, 19/9/2020, 11:34 (GMT+7)\n",
            "2, Cầu 2.250 tỷ đồng cuối sông Trà Khúc sắp hoàn thành Thứ bảy, 19/9/2020, 10:08 (GMT+7)\n",
            "3, Cảnh sát đu dây giải cứu sáu người mắc kẹt trong nước lũ Thứ bảy, 19/9/2020, 09:18 (GMT+7)\n",
            "4, Dùng lốp xe làm hộ lan trên đường cong Thứ bảy, 19/9/2020, 07:23 (GMT+7)\n",
            "5, Xe tải đâm ôtô buýt, 20 người bị thương Thứ bảy, 19/9/2020, 01:56 (GMT+7)\n",
            "6, Hàng chục tấn cam bị rụng Thứ bảy, 19/9/2020, 00:00 (GMT+7)\n",
            "7, Bờ biển Cửa Đại sạt lở Thứ sáu, 18/9/2020, 23:26 (GMT+7)\n",
            "8, Cháy hai tàu cá và ca nô Thứ sáu, 18/9/2020, 23:14 (GMT+7)\n",
            "9, Bệnh viện K thí điểm tự chủ Thứ sáu, 18/9/2020, 23:09 (GMT+7)\n",
            "10, Đường phố ở Hà Tĩnh, Vinh ngập hơn nửa mét Thứ sáu, 18/9/2020, 22:52 (GMT+7)\n",
            "11, 7 huyện, thị xã ở Thừa Thiên Huế mất điện Thứ sáu, 18/9/2020, 21:27 (GMT+7)\n",
            "12, Thủ tướng: 'Tiếp tục mở đường bay quốc tế có kiểm soát' Thứ sáu, 18/9/2020, 19:40 (GMT+7)\n",
            "13, Khu dân cư ngập sâu một mét sau mưa lớn Thứ sáu, 18/9/2020, 18:38 (GMT+7)\n",
            "14, Một người chết, hơn 2.400 nhà tốc mái do bão Thứ sáu, 18/9/2020, 18:28 (GMT+7)\n",
            "15, Khỉ đi lạc trong khu dân cư ở Sài Gòn Thứ sáu, 18/9/2020, 18:27 (GMT+7)\n",
            "16, Hiệu trưởng Đại học Tôn Đức Thắng bị cách tất cả chức vụ Đảng Thứ sáu, 18/9/2020, 17:49 (GMT+7)\n",
            "17, Bộ trưởng Chu Ngọc Anh làm Phó bí thư Thành ủy Hà Nội Thứ sáu, 18/9/2020, 17:28 (GMT+7)\n",
            "18, Thừa Thiên Huế ngổn ngang sau bão Thứ sáu, 18/9/2020, 16:53 (GMT+7)\n",
            "19, Thủ tướng: Cần cổ vũ nhân dân làm giàu chính đáng Thứ sáu, 18/9/2020, 14:27 (GMT+7)\n",
            "20, Gần 800 tỷ đồng xây cầu qua sông Cần Thơ Thứ sáu, 18/9/2020, 12:05 (GMT+7)\n",
            "21, Ông Nguyễn Anh Đức điều hành HĐQT Saigon Co.op Thứ sáu, 18/9/2020, 11:12 (GMT+7)\n",
            "22, Bão đổ bộ, một người chết Thứ sáu, 18/9/2020, 10:21 (GMT+7)\n",
            "23, Miền Bắc đón không khí lạnh Thứ sáu, 18/9/2020, 10:15 (GMT+7)\n",
            "24, Cưỡng chế nhiều 'chung cư mini' ở Sài Gòn Thứ sáu, 18/9/2020, 10:02 (GMT+7)\n",
            "25, Lốc xoáy tốc mái hàng chục căn nhà Thứ sáu, 18/9/2020, 09:10 (GMT+7)\n",
            "26, Bão áp sát khu vực Quảng Bình - Quảng Nam Thứ sáu, 18/9/2020, 08:07 (GMT+7)\n",
            "27, Người dân sơ tán trong đêm Thứ sáu, 18/9/2020, 00:10 (GMT+7)\n",
            "28, Bão giảm cấp trước khi đổ bộ Thứ sáu, 18/9/2020, 00:49 (GMT+7)\n",
            "29, Người nhập cảnh trả phí cách ly thế nào? Thứ năm, 17/9/2020, 20:56 (GMT+7)\n",
            "30, Đà Nẵng mở lại hầu hết dịch vụ Thứ năm, 17/9/2020, 19:20 (GMT+7)\n",
            "31, 3 sân bay dừng khai thác do bão Thứ năm, 17/9/2020, 19:05 (GMT+7)\n",
            "32, Tàu thuyền cấp tập về bờ trú bão Thứ năm, 17/9/2020, 18:26 (GMT+7)\n",
            "33, Các hãng hàng không bay quốc tế từ 18/9 Thứ năm, 17/9/2020, 17:37 (GMT+7)\n",
            "34, Quốc hội dành một ngày thảo luận văn kiện trình Đại hội XIII Thứ năm, 17/9/2020, 16:40 (GMT+7)\n",
            "35, Người miền Trung chạy bão Noul Thứ năm, 17/9/2020, 15:41 (GMT+7)\n",
            "<a class=\"btn-page next-page \" href=\"/thoi-su-p2\"><svg class=\"ic ic-arrow-right\"><use xlink:href=\"#Arrow-Right-1\"></use></svg></a>\n",
            "36, Một triệu học sinh nghỉ học tránh bão Noul Thứ năm, 17/9/2020, 14:31 (GMT+7)\n",
            "37, Hơn 21 tỷ đồng thay khe co giãn cầu Phú Mỹ Thứ năm, 17/9/2020, 14:20 (GMT+7)\n",
            "38, Lấy ý kiến người dân về dự thảo văn kiện Đại hội XIII Thứ năm, 17/9/2020, 12:16 (GMT+7)\n",
            "39, 7 tỉnh, thành cấm biển tránh bão Thứ năm, 17/9/2020, 12:07 (GMT+7)\n",
            "40, Hành khách nhập cảnh Việt Nam phải có địa chỉ lưu trú Thứ năm, 17/9/2020, 11:51 (GMT+7)\n",
            "41, Quốc hội sẽ bãi nhiệm tư cách đại biểu của ông Phạm Phú Quốc Thứ năm, 17/9/2020, 10:55 (GMT+7)\n",
            "42, Chính phủ đôn đốc hàng loạt công trình giao thông lớn Thứ năm, 17/9/2020, 10:02 (GMT+7)\n",
            "43, Khu dân cư ngập suốt hai tuần ở Sài Gòn Thứ năm, 17/9/2020, 09:03 (GMT+7)\n",
            "44, Bà Rịa - Vũng Tàu giữ lại rừng dầu Côn Đảo Thứ năm, 17/9/2020, 08:10 (GMT+7)\n",
            "45, Giám sát người cách ly tại khách sạn thế nào Thứ năm, 17/9/2020, 07:53 (GMT+7)\n"
          ],
          "name": "stdout"
        }
      ]
    }
  ]
}