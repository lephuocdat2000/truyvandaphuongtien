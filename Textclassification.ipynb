{
  "nbformat": 4,
  "nbformat_minor": 0,
  "metadata": {
    "colab": {
      "name": "Untitled92.ipynb",
      "provenance": [],
      "authorship_tag": "ABX9TyNyxTvMPbo3A3+B55gHvIt9",
      "include_colab_link": true
    },
    "kernelspec": {
      "name": "python3",
      "display_name": "Python 3"
    }
  },
  "cells": [
    {
      "cell_type": "markdown",
      "metadata": {
        "id": "view-in-github",
        "colab_type": "text"
      },
      "source": [
        "<a href=\"https://colab.research.google.com/github/lephuocdat2000/truyvandaphuongtien/blob/master/Textclassification.ipynb\" target=\"_parent\"><img src=\"https://colab.research.google.com/assets/colab-badge.svg\" alt=\"Open In Colab\"/></a>"
      ]
    },
    {
      "cell_type": "code",
      "metadata": {
        "id": "HDN16gkYK1kv"
      },
      "source": [
        "from sklearn.datasets import fetch_20newsgroups\r\n",
        "newsgroups_train=fetch_20newsgroups(subset='train')\r\n",
        "categories=newsgroups_train.target_names\r\n",
        "\r\n"
      ],
      "execution_count": 6,
      "outputs": []
    },
    {
      "cell_type": "code",
      "metadata": {
        "id": "Rh3AasBwYcc7"
      },
      "source": [
        "import numpy as np\r\n",
        "newsgroups_all=np.array(fetch_20newsgroups(subset='all')).reshape()"
      ],
      "execution_count": 10,
      "outputs": []
    },
    {
      "cell_type": "code",
      "metadata": {
        "id": "79gxMfU3dBTO",
        "outputId": "337375b8-5589-4054-f95e-99a259b1ee36",
        "colab": {
          "base_uri": "https://localhost:8080/"
        }
      },
      "source": [
        "len(newsgroups_all)"
      ],
      "execution_count": 16,
      "outputs": [
        {
          "output_type": "execute_result",
          "data": {
            "text/plain": [
              "5"
            ]
          },
          "metadata": {
            "tags": []
          },
          "execution_count": 16
        }
      ]
    },
    {
      "cell_type": "code",
      "metadata": {
        "colab": {
          "base_uri": "https://localhost:8080/"
        },
        "id": "810CmoGvMuPW",
        "outputId": "404f82ae-446e-484c-8ead-780dc7a8e7a1"
      },
      "source": [
        "newsgroups_test=fetch_20newsgroups(subset='test',categories=categories)\r\n",
        "newsgroups_test.filenames.shape"
      ],
      "execution_count": 8,
      "outputs": [
        {
          "output_type": "execute_result",
          "data": {
            "text/plain": [
              "(7532,)"
            ]
          },
          "metadata": {
            "tags": []
          },
          "execution_count": 8
        }
      ]
    }
  ]
}