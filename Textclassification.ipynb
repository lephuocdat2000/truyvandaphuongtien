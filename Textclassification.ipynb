{
  "nbformat": 4,
  "nbformat_minor": 0,
  "metadata": {
    "colab": {
      "name": "Untitled92.ipynb",
      "provenance": [],
      "authorship_tag": "ABX9TyPKhzOeUMJmC1/0EHj0E9Pc",
      "include_colab_link": true
    },
    "kernelspec": {
      "name": "python3",
      "display_name": "Python 3"
    }
  },
  "cells": [
    {
      "cell_type": "markdown",
      "metadata": {
        "id": "view-in-github",
        "colab_type": "text"
      },
      "source": [
        "<a href=\"https://colab.research.google.com/github/lephuocdat2000/truyvandaphuongtien/blob/master/Textclassification.ipynb\" target=\"_parent\"><img src=\"https://colab.research.google.com/assets/colab-badge.svg\" alt=\"Open In Colab\"/></a>"
      ]
    },
    {
      "cell_type": "code",
      "metadata": {
        "id": "HDN16gkYK1kv"
      },
      "source": [
        "from sklearn.datasets import fetch_20newsgroups\r\n",
        "from sklearn.model_selection import train_test_split\r\n",
        "newsgroups=fetch_20newsgroups(subset='all')\r\n",
        "categories=newsgroups.target_names"
      ],
      "execution_count": 5,
      "outputs": []
    },
    {
      "cell_type": "code",
      "metadata": {
        "id": "IN-Z-y5kPD6-"
      },
      "source": [
        "X_train,X_test,y_train,y_test="
      ],
      "execution_count": null,
      "outputs": []
    },
    {
      "cell_type": "code",
      "metadata": {
        "id": "Rh3AasBwYcc7"
      },
      "source": [
        "import numpy as np\r\n",
        "newsgroups_all=np.array(fetch_20newsgroups(subset='all')).reshape()"
      ],
      "execution_count": null,
      "outputs": []
    },
    {
      "cell_type": "code",
      "metadata": {
        "id": "79gxMfU3dBTO",
        "colab": {
          "base_uri": "https://localhost:8080/"
        },
        "outputId": "337375b8-5589-4054-f95e-99a259b1ee36"
      },
      "source": [
        "len(newsgroups_all)"
      ],
      "execution_count": null,
      "outputs": [
        {
          "output_type": "execute_result",
          "data": {
            "text/plain": [
              "5"
            ]
          },
          "metadata": {
            "tags": []
          },
          "execution_count": 16
        }
      ]
    },
    {
      "cell_type": "code",
      "metadata": {
        "colab": {
          "base_uri": "https://localhost:8080/"
        },
        "id": "810CmoGvMuPW",
        "outputId": "404f82ae-446e-484c-8ead-780dc7a8e7a1"
      },
      "source": [
        "newsgroups_test=fetch_20newsgroups(subset='test',categories=categories)\r\n",
        "newsgroups_test.filenames.shape"
      ],
      "execution_count": null,
      "outputs": [
        {
          "output_type": "execute_result",
          "data": {
            "text/plain": [
              "(7532,)"
            ]
          },
          "metadata": {
            "tags": []
          },
          "execution_count": 8
        }
      ]
    }
  ]
}