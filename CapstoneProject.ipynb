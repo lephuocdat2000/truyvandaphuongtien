{
  "nbformat": 4,
  "nbformat_minor": 0,
  "metadata": {
    "colab": {
      "name": "Untitled83.ipynb",
      "provenance": [],
      "authorship_tag": "ABX9TyPA4K3MAMe5ti8IJntCCYiZ",
      "include_colab_link": true
    },
    "kernelspec": {
      "name": "python3",
      "display_name": "Python 3"
    }
  },
  "cells": [
    {
      "cell_type": "markdown",
      "metadata": {
        "id": "view-in-github",
        "colab_type": "text"
      },
      "source": [
        "<a href=\"https://colab.research.google.com/github/lephuocdat2000/truyvandaphuongtien/blob/master/CapstoneProject.ipynb\" target=\"_parent\"><img src=\"https://colab.research.google.com/assets/colab-badge.svg\" alt=\"Open In Colab\"/></a>"
      ]
    },
    {
      "cell_type": "code",
      "metadata": {
        "colab": {
          "base_uri": "https://localhost:8080/",
          "height": 279
        },
        "id": "Zos4ZYb8vYt1",
        "outputId": "a533cf07-76f7-4e49-faff-8ed2af804c46"
      },
      "source": [
        "#đọc file data\n",
        "import pandas as pd\n",
        "import numpy as np\n",
        "import math\n",
        "import re\n",
        "book_info=pd.read_json('/content/Book_info.json',encoding='utf-8')\n",
        "book_info.head()"
      ],
      "execution_count": null,
      "outputs": [
        {
          "output_type": "execute_result",
          "data": {
            "text/html": [
              "<div>\n",
              "<style scoped>\n",
              "    .dataframe tbody tr th:only-of-type {\n",
              "        vertical-align: middle;\n",
              "    }\n",
              "\n",
              "    .dataframe tbody tr th {\n",
              "        vertical-align: top;\n",
              "    }\n",
              "\n",
              "    .dataframe thead th {\n",
              "        text-align: right;\n",
              "    }\n",
              "</style>\n",
              "<table border=\"1\" class=\"dataframe\">\n",
              "  <thead>\n",
              "    <tr style=\"text-align: right;\">\n",
              "      <th></th>\n",
              "      <th>NO</th>\n",
              "      <th>BIBID</th>\n",
              "      <th>AUTHOR</th>\n",
              "      <th>TITLE</th>\n",
              "      <th>PUBLISHER</th>\n",
              "      <th>PUBDATE</th>\n",
              "      <th>COUNTHOLDING</th>\n",
              "      <th>TOPIC</th>\n",
              "      <th>CONTENT</th>\n",
              "    </tr>\n",
              "  </thead>\n",
              "  <tbody>\n",
              "    <tr>\n",
              "      <th>0</th>\n",
              "      <td>0</td>\n",
              "      <td>4386</td>\n",
              "      <td>Trần Hồng Nghi</td>\n",
              "      <td>Hướng dẫn thực hành phát triển ứng dụn...</td>\n",
              "      <td>Đại học Quốc gia Tp. Hồ Chí Min</td>\n",
              "      <td>2019</td>\n",
              "      <td>100</td>\n",
              "      <td>[Mạng máy tính,  Hệ điều hành Android]</td>\n",
              "      <td>Cung cấp những kiến thức cơ bản về công ...</td>\n",
              "    </tr>\n",
              "    <tr>\n",
              "      <th>1</th>\n",
              "      <td>1</td>\n",
              "      <td>4385</td>\n",
              "      <td>Lâm Đức Khải</td>\n",
              "      <td>Thiết kế luận lý số 2</td>\n",
              "      <td>Đại học Quốc gia Thành phố Hồ Chí Min</td>\n",
              "      <td>2019</td>\n",
              "      <td>100</td>\n",
              "      <td>[Kỹ thuật máy tính]</td>\n",
              "      <td>None</td>\n",
              "    </tr>\n",
              "    <tr>\n",
              "      <th>2</th>\n",
              "      <td>2</td>\n",
              "      <td>4384</td>\n",
              "      <td>Cao Thị Nhạn</td>\n",
              "      <td>Phân tích thiết kế Hệ thống thông tin</td>\n",
              "      <td>Đại học Quốc gia Thành phố Hồ Chí Min</td>\n",
              "      <td>2019</td>\n",
              "      <td>100</td>\n",
              "      <td>[Hệ thống thông tin]</td>\n",
              "      <td>None</td>\n",
              "    </tr>\n",
              "    <tr>\n",
              "      <th>3</th>\n",
              "      <td>3</td>\n",
              "      <td>4382</td>\n",
              "      <td>Đỗ Phúc</td>\n",
              "      <td>Phân tích Dữ liệu lớn</td>\n",
              "      <td>Đại học Quốc gia Thành phố Hồ Chí Min</td>\n",
              "      <td>2019</td>\n",
              "      <td>100</td>\n",
              "      <td>[Hệ thống thông tin,  Giáo trình]</td>\n",
              "      <td>None</td>\n",
              "    </tr>\n",
              "    <tr>\n",
              "      <th>4</th>\n",
              "      <td>4</td>\n",
              "      <td>4365</td>\n",
              "      <td>Nguyễn Anh Tuấn</td>\n",
              "      <td>Hệ điều hành Linux</td>\n",
              "      <td>Đại học Quốc gia TPHC</td>\n",
              "      <td>2019</td>\n",
              "      <td>100</td>\n",
              "      <td>[Hệ điều hành Linux]</td>\n",
              "      <td>None</td>\n",
              "    </tr>\n",
              "  </tbody>\n",
              "</table>\n",
              "</div>"
            ],
            "text/plain": [
              "   NO  ...                                            CONTENT\n",
              "0   0  ...  Cung cấp những kiến thức cơ bản về công ...\n",
              "1   1  ...                                               None\n",
              "2   2  ...                                               None\n",
              "3   3  ...                                               None\n",
              "4   4  ...                                               None\n",
              "\n",
              "[5 rows x 9 columns]"
            ]
          },
          "metadata": {
            "tags": []
          },
          "execution_count": 145
        }
      ]
    },
    {
      "cell_type": "code",
      "metadata": {
        "id": "iwe3lLrkxOZ5"
      },
      "source": [
        "#Xây dựng tập từ điển \n",
        "def Dic_building(a):\n",
        "  contents=book_info[a].to_numpy()\n",
        "  lst_contents=[]\n",
        "  dictionary=set()\n",
        "  if (a!='TOPIC'):\n",
        "    for content in contents:\n",
        "       if content==None: continue\n",
        "       words = content.replace('\"', '').replace('.', '').replace(\"'\",\"\").split()\n",
        "       lst_contents.append(words)\n",
        "       dictionary.update(words)\n",
        "  else:\n",
        "    for content in contents_TOPIC:\n",
        "       for i in content:\n",
        "         words=i.replace('\"', '').replace('.', '').replace(\"'\",\"\").split()\n",
        "         lst_contents.append(words)\n",
        "         dictionary.update(words)\n",
        "  dictionary = list(dictionary)\n",
        "  return contents,lst_contents,dictionary\n",
        "#Xây dựng Inverted File\n",
        "def build_inverted_files(dictionary,lst_contents):\n",
        "   inv_files=dict()\n",
        "   for k,word in enumerate(dictionary):\n",
        "      inv_files[word] = set()\n",
        "      for i,content in enumerate(lst_contents):\n",
        "         if word in content:\n",
        "            count=content.count(word)\n",
        "            tf=count/len(content)\n",
        "            tup_word_tf=(i,tf)\n",
        "            inv_files[word].add(tup_word_tf)\n",
        "   return inv_files\n",
        "\n",
        "#3. Tính toán tf-idf\n",
        "def calcu_word_tfidf(inv_files,lst_contents):\n",
        "    tf_idf_arr=np.zeros(len(inv_files))\n",
        "    total_content=len(lst_contents)\n",
        "    for i,word in enumerate(inv_files):\n",
        "        k=len(inv_files[word])\n",
        "        idf=math.log(total_content/k)\n",
        "        for tup in inv_files[word]:\n",
        "            temp=list(tup)\n",
        "            temp[1]*=idf\n",
        "            tup=tuple(temp)\n",
        "def Build_invfile(a):\n",
        "   contents,lst_contents,dictionary = Dic_building(a)\n",
        "   inv_files = build_inverted_files(dictionary,lst_contents)\n",
        "   calcu_word_tfidf(inv_files,lst_contents)\n",
        "   return contents,lst_contents,dictionary,inv_files"
      ],
      "execution_count": null,
      "outputs": []
    },
    {
      "cell_type": "code",
      "metadata": {
        "id": "wEQNKiVV3qOe"
      },
      "source": [
        "contents_TOPIC,lst_contents_TOPIC,dic_TOPIC,inv_files_TOPIC, = Build_invfile('TOPIC')\n",
        "contents_TITLE,lst_contents_TITLE,dic_TITLE,inv_files_TITLE = Build_invfile('TITLE')\n",
        "contents_AUTHOR,lst_contents_AUTHOR,dic_AUTHOR,inv_files_AUTHOR = Build_invfile('AUTHOR')\n",
        "contents_CONTENT,lst_contents_CONTENT,dic_CONTENT,inv_files_CONTENT = Build_invfile('CONTENT')"
      ],
      "execution_count": null,
      "outputs": []
    },
    {
      "cell_type": "code",
      "metadata": {
        "colab": {
          "base_uri": "https://localhost:8080/"
        },
        "id": "9TQQTNutGGh9",
        "outputId": "45ff491c-5f92-4df5-99cc-4d3313f8e395"
      },
      "source": [
        "query=str(input())\n",
        "def Create_tfidf_query(query,lst_content,inv_files):\n",
        "   query_words=re.findall(\"(\\w+)\", query)\n",
        "   dict_query=set()\n",
        "   dict_query.update(query_words)\n",
        "   dict_query=list(dict_query)\n",
        "   tfidf_query=np.zeros(len(dict_query))\n",
        "   total_content=len(lst_contents)\n",
        "   for i,word in enumerate(dict_query):\n",
        "     try:\n",
        "        idf=1+np.log(total_content/(len(inv_files[word])))\n",
        "     except: \n",
        "        idf=1+np.log(total_content)\n",
        "        tfidf_query[i]=query_words.count(word)*idf/len(query_words)\n",
        "#print(\"tfidf_query:\",tfidf_query)\n",
        "   query_words=re.findall(\"(\\w+)\", query)\n"
      ],
      "execution_count": null,
      "outputs": [
        {
          "output_type": "stream",
          "text": [
            "Lê Phước Đạt\n"
          ],
          "name": "stdout"
        }
      ]
    }
  ]
}